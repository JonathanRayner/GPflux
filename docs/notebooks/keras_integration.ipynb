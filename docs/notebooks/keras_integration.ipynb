{
 "cells": [
  {
   "cell_type": "markdown",
   "id": "c98f259c",
   "metadata": {
    "cell_marker": "\"\"\"",
    "lines_to_next_cell": 0
   },
   "source": [
    "# Keras integration\n",
    "\n",
    "TODO: Some explanation..."
   ]
  },
  {
   "cell_type": "code",
   "execution_count": 1,
   "id": "80dcaf2e",
   "metadata": {
    "execution": {
     "iopub.execute_input": "2023-05-31T07:12:48.320158Z",
     "iopub.status.busy": "2023-05-31T07:12:48.319917Z",
     "iopub.status.idle": "2023-05-31T07:12:53.071099Z",
     "shell.execute_reply": "2023-05-31T07:12:53.070298Z"
    },
    "lines_to_next_cell": 2
   },
   "outputs": [
    {
     "name": "stderr",
     "output_type": "stream",
     "text": [
      "2023-05-31 07:12:49.534783: W tensorflow/compiler/tf2tensorrt/utils/py_utils.cc:38] TF-TRT Warning: Could not find TensorRT\n"
     ]
    }
   ],
   "source": [
    "import numpy as np\n",
    "import tensorflow as tf\n",
    "import gpflow\n",
    "import gpflux\n",
    "from gpflow.ci_utils import reduce_in_tests\n",
    "\n",
    "import matplotlib.pyplot as plt"
   ]
  },
  {
   "cell_type": "code",
   "execution_count": 2,
   "id": "d47331f6",
   "metadata": {
    "execution": {
     "iopub.execute_input": "2023-05-31T07:12:53.075494Z",
     "iopub.status.busy": "2023-05-31T07:12:53.074922Z",
     "iopub.status.idle": "2023-05-31T07:12:53.086446Z",
     "shell.execute_reply": "2023-05-31T07:12:53.085851Z"
    }
   },
   "outputs": [],
   "source": [
    "%matplotlib inline"
   ]
  },
  {
   "cell_type": "code",
   "execution_count": 3,
   "id": "168b3d2d",
   "metadata": {
    "execution": {
     "iopub.execute_input": "2023-05-31T07:12:53.089641Z",
     "iopub.status.busy": "2023-05-31T07:12:53.089087Z",
     "iopub.status.idle": "2023-05-31T07:12:53.094227Z",
     "shell.execute_reply": "2023-05-31T07:12:53.093646Z"
    }
   },
   "outputs": [],
   "source": [
    "d = np.load(\"../../tests/snelson1d.npz\")\n",
    "X, Y = d[\"X\"], d[\"Y\"]\n",
    "num_data, input_dim = X.shape\n",
    "_, output_dim = Y.shape"
   ]
  },
  {
   "cell_type": "code",
   "execution_count": 4,
   "id": "931602f9",
   "metadata": {
    "execution": {
     "iopub.execute_input": "2023-05-31T07:12:53.096770Z",
     "iopub.status.busy": "2023-05-31T07:12:53.096557Z",
     "iopub.status.idle": "2023-05-31T07:12:53.209174Z",
     "shell.execute_reply": "2023-05-31T07:12:53.208536Z"
    }
   },
   "outputs": [
    {
     "data": {
      "image/png": "[encoded data removed]",
      "text/plain": [
       "<Figure size 640x480 with 1 Axes>"
      ]
     },
     "metadata": {},
     "output_type": "display_data"
    }
   ],
   "source": [
    "plt.figure()\n",
    "plt.plot(X, Y, \".\")\n",
    "plt.show()"
   ]
  },
  {
   "cell_type": "code",
   "execution_count": 5,
   "id": "b6233114",
   "metadata": {
    "execution": {
     "iopub.execute_input": "2023-05-31T07:12:53.213746Z",
     "iopub.status.busy": "2023-05-31T07:12:53.212560Z",
     "iopub.status.idle": "2023-05-31T07:12:53.219296Z",
     "shell.execute_reply": "2023-05-31T07:12:53.218765Z"
    }
   },
   "outputs": [],
   "source": [
    "def create_layers():\n",
    "    num_inducing = 13\n",
    "    hidden_dim = 1\n",
    "    Z = np.linspace(X.min() - 0.1, X.max() + 0.1, num_inducing).reshape(-1, 1)\n",
    "\n",
    "    layer1 = gpflux.helpers.construct_gp_layer(\n",
    "        num_data, num_inducing, input_dim, hidden_dim, z_init=Z.copy()\n",
    "    )\n",
    "    layer1.mean_function = gpflow.mean_functions.Identity()  # TODO: pass layer_type instead\n",
    "    layer1.q_sqrt.assign(layer1.q_sqrt * 0.01)\n",
    "\n",
    "    layer2 = gpflux.helpers.construct_gp_layer(\n",
    "        num_data, num_inducing, hidden_dim, output_dim, z_init=Z.copy()\n",
    "    )\n",
    "\n",
    "    likelihood_layer = gpflux.layers.LikelihoodLayer(gpflow.likelihoods.Gaussian(0.01))\n",
    "\n",
    "    return layer1, layer2, likelihood_layer"
   ]
  },
  {
   "cell_type": "code",
   "execution_count": 6,
   "id": "1fb7c569",
   "metadata": {
    "execution": {
     "iopub.execute_input": "2023-05-31T07:12:53.223381Z",
     "iopub.status.busy": "2023-05-31T07:12:53.222299Z",
     "iopub.status.idle": "2023-05-31T07:12:53.227521Z",
     "shell.execute_reply": "2023-05-31T07:12:53.227003Z"
    }
   },
   "outputs": [],
   "source": [
    "def create_model(model_class):\n",
    "    \"\"\"\n",
    "    We pass in `model_class` to make it easy to use\n",
    "    `gpflux.optimization.NatGradModel`, which is required for combining\n",
    "    GPflow's `NaturalGradient` optimizer with Keras. `model_class` needs to be\n",
    "    a constructor that has the same semantics as `tf.keras.Model.__init__`.\n",
    "    \"\"\"\n",
    "    layer1, layer2, likelihood_layer = create_layers()\n",
    "    dgp = gpflux.models.DeepGP([layer1, layer2], likelihood_layer, default_model_class=model_class)\n",
    "    return dgp"
   ]
  },
  {
   "cell_type": "code",
   "execution_count": 7,
   "id": "6e562dbb",
   "metadata": {
    "execution": {
     "iopub.execute_input": "2023-05-31T07:12:53.231495Z",
     "iopub.status.busy": "2023-05-31T07:12:53.230421Z",
     "iopub.status.idle": "2023-05-31T07:12:53.234160Z",
     "shell.execute_reply": "2023-05-31T07:12:53.233530Z"
    }
   },
   "outputs": [],
   "source": [
    "batch_size = 2\n",
    "num_epochs = reduce_in_tests(200)"
   ]
  },
  {
   "cell_type": "code",
   "execution_count": 8,
   "id": "42278239",
   "metadata": {
    "execution": {
     "iopub.execute_input": "2023-05-31T07:12:53.236683Z",
     "iopub.status.busy": "2023-05-31T07:12:53.236464Z",
     "iopub.status.idle": "2023-05-31T07:12:59.503133Z",
     "shell.execute_reply": "2023-05-31T07:12:59.502487Z"
    }
   },
   "outputs": [
    {
     "name": "stderr",
     "output_type": "stream",
     "text": [
      "/tmp/ipykernel_3860/2200924875.py:16: DeprecationWarning: Call to deprecated class TrackableLayer. (GPflux's `TrackableLayer` was prior to TF2.5 used to collect GPflow variables in subclassed layers. As of TF 2.5, `tf.Module` supports this natively and there is no need for `TrackableLayer` anymore. It will be removed in GPflux version `1.0.0`.)\n",
      "  likelihood_layer = gpflux.layers.LikelihoodLayer(gpflow.likelihoods.Gaussian(0.01))\n"
     ]
    },
    {
     "name": "stdout",
     "output_type": "stream",
     "text": [
      "WARNING:tensorflow:From /opt/hostedtoolcache/Python/3.8.16/x64/lib/python3.8/site-packages/tensorflow_probability/python/distributions/distribution.py:342: calling MultivariateNormalDiag.__init__ (from tensorflow_probability.python.distributions.mvn_diag) with scale_identity_multiplier is deprecated and will be removed after 2020-01-01.\n",
      "Instructions for updating:\n",
      "`scale_identity_multiplier` is deprecated; please combine it into `scale_diag` directly instead.\n"
     ]
    },
    {
     "name": "stdout",
     "output_type": "stream",
     "text": [
      "Epoch 1/2\n"
     ]
    },
    {
     "name": "stdout",
     "output_type": "stream",
     "text": [
      "\r",
      "  1/100 [..............................] - ETA: 6:39 - loss: 75.4133 - gp_layer_prior_kl: 0.2668 - gp_layer_1_prior_kl: 0.0000e+00"
     ]
    },
    {
     "name": "stdout",
     "output_type": "stream",
     "text": [
      "\b\b\b\b\b\b\b\b\b\b\b\b\b\b\b\b\b\b\b\b\b\b\b\b\b\b\b\b\b\b\b\b\b\b\b\b\b\b\b\b\b\b\b\b\b\b\b\b\b\b\b\b\b\b\b\b\b\b\b\b\b\b\b\b\b\b\b\b\b\b\b\b\b\b\b\b\b\b\b\b\b\b\b\b\b\b\b\b\b\b\b\b\b\b\b\b\b\b\b\b\b\b\b\b\b\b\b\b\b\b\b\b\b\b\b\b\b\b\b\b\b\b\b\b\b\b\b\b\b\b\r",
      " 31/100 [========>.....................] - ETA: 0s - loss: 15.8724 - gp_layer_prior_kl: 0.0582 - gp_layer_1_prior_kl: 0.0673      "
     ]
    },
    {
     "name": "stdout",
     "output_type": "stream",
     "text": [
      "\b\b\b\b\b\b\b\b\b\b\b\b\b\b\b\b\b\b\b\b\b\b\b\b\b\b\b\b\b\b\b\b\b\b\b\b\b\b\b\b\b\b\b\b\b\b\b\b\b\b\b\b\b\b\b\b\b\b\b\b\b\b\b\b\b\b\b\b\b\b\b\b\b\b\b\b\b\b\b\b\b\b\b\b\b\b\b\b\b\b\b\b\b\b\b\b\b\b\b\b\b\b\b\b\b\b\b\b\b\b\b\b\b\b\b\b\b\b\b\b\b\b\b\b\r",
      " 61/100 [=================>............] - ETA: 0s - loss: 9.7274 - gp_layer_prior_kl: 0.0616 - gp_layer_1_prior_kl: 0.0883 "
     ]
    },
    {
     "name": "stdout",
     "output_type": "stream",
     "text": [
      "\b\b\b\b\b\b\b\b\b\b\b\b\b\b\b\b\b\b\b\b\b\b\b\b\b\b\b\b\b\b\b\b\b\b\b\b\b\b\b\b\b\b\b\b\b\b\b\b\b\b\b\b\b\b\b\b\b\b\b\b\b\b\b\b\b\b\b\b\b\b\b\b\b\b\b\b\b\b\b\b\b\b\b\b\b\b\b\b\b\b\b\b\b\b\b\b\b\b\b\b\b\b\b\b\b\b\b\b\b\b\b\b\b\b\b\b\b\b\b\b\b\b\b\r",
      " 91/100 [==========================>...] - ETA: 0s - loss: 7.0929 - gp_layer_prior_kl: 0.0550 - gp_layer_1_prior_kl: 0.0912"
     ]
    },
    {
     "name": "stdout",
     "output_type": "stream",
     "text": [
      "\b\b\b\b\b\b\b\b\b\b\b\b\b\b\b\b\b\b\b\b\b\b\b\b\b\b\b\b\b\b\b\b\b\b\b\b\b\b\b\b\b\b\b\b\b\b\b\b\b\b\b\b\b\b\b\b\b\b\b\b\b\b\b\b\b\b\b\b\b\b\b\b\b\b\b\b\b\b\b\b\b\b\b\b\b\b\b\b\b\b\b\b\b\b\b\b\b\b\b\b\b\b\b\b\b\b\b\b\b\b\b\b\b\b\b\b\b\b\b\b\b\b\b\r",
      "100/100 [==============================] - 4s 2ms/step - loss: 6.6871 - gp_layer_prior_kl: 0.0528 - gp_layer_1_prior_kl: 0.0915 - lr: 0.1000\n"
     ]
    },
    {
     "name": "stdout",
     "output_type": "stream",
     "text": [
      "Epoch 2/2\n"
     ]
    },
    {
     "name": "stdout",
     "output_type": "stream",
     "text": [
      "\r",
      "  1/100 [..............................] - ETA: 0s - loss: 1.5756 - gp_layer_prior_kl: 0.0326 - gp_layer_1_prior_kl: 0.0997"
     ]
    },
    {
     "name": "stdout",
     "output_type": "stream",
     "text": [
      "\b\b\b\b\b\b\b\b\b\b\b\b\b\b\b\b\b\b\b\b\b\b\b\b\b\b\b\b\b\b\b\b\b\b\b\b\b\b\b\b\b\b\b\b\b\b\b\b\b\b\b\b\b\b\b\b\b\b\b\b\b\b\b\b\b\b\b\b\b\b\b\b\b\b\b\b\b\b\b\b\b\b\b\b\b\b\b\b\b\b\b\b\b\b\b\b\b\b\b\b\b\b\b\b\b\b\b\b\b\b\b\b\b\b\b\b\b\b\b\b\b\b\b\r",
      " 31/100 [========>.....................] - ETA: 0s - loss: 1.3919 - gp_layer_prior_kl: 0.0355 - gp_layer_1_prior_kl: 0.1072"
     ]
    },
    {
     "name": "stdout",
     "output_type": "stream",
     "text": [
      "\b\b\b\b\b\b\b\b\b\b\b\b\b\b\b\b\b\b\b\b\b\b\b\b\b\b\b\b\b\b\b\b\b\b\b\b\b\b\b\b\b\b\b\b\b\b\b\b\b\b\b\b\b\b\b\b\b\b\b\b\b\b\b\b\b\b\b\b\b\b\b\b\b\b\b\b\b\b\b\b\b\b\b\b\b\b\b\b\b\b\b\b\b\b\b\b\b\b\b\b\b\b\b\b\b\b\b\b\b\b\b\b\b\b\b\b\b\b\b\b\b\b\b\r",
      " 60/100 [=================>............] - ETA: 0s - loss: 1.2405 - gp_layer_prior_kl: 0.0333 - gp_layer_1_prior_kl: 0.0990"
     ]
    },
    {
     "name": "stdout",
     "output_type": "stream",
     "text": [
      "\b\b\b\b\b\b\b\b\b\b\b\b\b\b\b\b\b\b\b\b\b\b\b\b\b\b\b\b\b\b\b\b\b\b\b\b\b\b\b\b\b\b\b\b\b\b\b\b\b\b\b\b\b\b\b\b\b\b\b\b\b\b\b\b\b\b\b\b\b\b\b\b\b\b\b\b\b\b\b\b\b\b\b\b\b\b\b\b\b\b\b\b\b\b\b\b\b\b\b\b\b\b\b\b\b\b\b\b\b\b\b\b\b\b\b\b\b\b\b\b\b\b\b\r",
      " 88/100 [=========================>....] - ETA: 0s - loss: 1.1813 - gp_layer_prior_kl: 0.0317 - gp_layer_1_prior_kl: 0.0948"
     ]
    },
    {
     "name": "stdout",
     "output_type": "stream",
     "text": [
      "\b\b\b\b\b\b\b\b\b\b\b\b\b\b\b\b\b\b\b\b\b\b\b\b\b\b\b\b\b\b\b\b\b\b\b\b\b\b\b\b\b\b\b\b\b\b\b\b\b\b\b\b\b\b\b\b\b\b\b\b\b\b\b\b\b\b\b\b\b\b\b\b\b\b\b\b\b\b\b\b\b\b\b\b\b\b\b\b\b\b\b\b\b\b\b\b\b\b\b\b\b\b\b\b\b\b\b\b\b\b\b\b\b\b\b\b\b\b\b\b\b\b\b\r",
      "100/100 [==============================] - 0s 2ms/step - loss: 1.1654 - gp_layer_prior_kl: 0.0309 - gp_layer_1_prior_kl: 0.0929 - lr: 0.1000\n"
     ]
    }
   ],
   "source": [
    "dgp = create_model(tf.keras.Model)\n",
    "\n",
    "callbacks = [\n",
    "    tf.keras.callbacks.ReduceLROnPlateau(\n",
    "        monitor=\"loss\",\n",
    "        patience=5,\n",
    "        factor=0.95,\n",
    "        verbose=1,\n",
    "        min_lr=1e-6,\n",
    "    )\n",
    "]\n",
    "\n",
    "dgp_train = dgp.as_training_model()\n",
    "dgp_train.compile(tf.optimizers.Adam(learning_rate=0.1))\n",
    "\n",
    "history = dgp_train.fit(\n",
    "    {\"inputs\": X, \"targets\": Y}, batch_size=batch_size, epochs=num_epochs, callbacks=callbacks\n",
    ")"
   ]
  },
  {
   "cell_type": "code",
   "execution_count": 9,
   "id": "1e7fd892",
   "metadata": {
    "execution": {
     "iopub.execute_input": "2023-05-31T07:12:59.506237Z",
     "iopub.status.busy": "2023-05-31T07:12:59.505851Z",
     "iopub.status.idle": "2023-05-31T07:13:04.609942Z",
     "shell.execute_reply": "2023-05-31T07:13:04.608786Z"
    }
   },
   "outputs": [
    {
     "name": "stderr",
     "output_type": "stream",
     "text": [
      "/tmp/ipykernel_3860/2200924875.py:16: DeprecationWarning: Call to deprecated class TrackableLayer. (GPflux's `TrackableLayer` was prior to TF2.5 used to collect GPflow variables in subclassed layers. As of TF 2.5, `tf.Module` supports this natively and there is no need for `TrackableLayer` anymore. It will be removed in GPflux version `1.0.0`.)\n",
      "  likelihood_layer = gpflux.layers.LikelihoodLayer(gpflow.likelihoods.Gaussian(0.01))\n"
     ]
    },
    {
     "name": "stdout",
     "output_type": "stream",
     "text": [
      "Epoch 1/2\n"
     ]
    },
    {
     "name": "stdout",
     "output_type": "stream",
     "text": [
      "Executing NatGradModel backwards pass\n"
     ]
    },
    {
     "name": "stdout",
     "output_type": "stream",
     "text": [
      "Executing NatGradModel backwards pass\n"
     ]
    },
    {
     "name": "stdout",
     "output_type": "stream",
     "text": [
      "\r",
      "  1/100 [..............................] - ETA: 6:07 - loss: 163.2631 - gp_layer_2_prior_kl: 0.2668 - gp_layer_3_prior_kl: 0.0000e+00"
     ]
    },
    {
     "name": "stdout",
     "output_type": "stream",
     "text": [
      "\b\b\b\b\b\b\b\b\b\b\b\b\b\b\b\b\b\b\b\b\b\b\b\b\b\b\b\b\b\b\b\b\b\b\b\b\b\b\b\b\b\b\b\b\b\b\b\b\b\b\b\b\b\b\b\b\b\b\b\b\b\b\b\b\b\b\b\b\b\b\b\b\b\b\b\b\b\b\b\b\b\b\b\b\b\b\b\b\b\b\b\b\b\b\b\b\b\b\b\b\b\b\b\b\b\b\b\b\b\b\b\b\b\b\b\b\b\b\b\b\b\b\b\b\b\b\b\b\b\b\b\b\b\r",
      " 29/100 [=======>......................] - ETA: 0s - loss: 17.2560 - gp_layer_2_prior_kl: 0.2668 - gp_layer_3_prior_kl: 0.0216       "
     ]
    },
    {
     "name": "stdout",
     "output_type": "stream",
     "text": [
      "\b\b\b\b\b\b\b\b\b\b\b\b\b\b\b\b\b\b\b\b\b\b\b\b\b\b\b\b\b\b\b\b\b\b\b\b\b\b\b\b\b\b\b\b\b\b\b\b\b\b\b\b\b\b\b\b\b\b\b\b\b\b\b\b\b\b\b\b\b\b\b\b\b\b\b\b\b\b\b\b\b\b\b\b\b\b\b\b\b\b\b\b\b\b\b\b\b\b\b\b\b\b\b\b\b\b\b\b\b\b\b\b\b\b\b\b\b\b\b\b\b\b\b\b\b\b\r",
      " 58/100 [================>.............] - ETA: 0s - loss: 10.5003 - gp_layer_2_prior_kl: 0.2667 - gp_layer_3_prior_kl: 0.0272"
     ]
    },
    {
     "name": "stdout",
     "output_type": "stream",
     "text": [
      "\b\b\b\b\b\b\b\b\b\b\b\b\b\b\b\b\b\b\b\b\b\b\b\b\b\b\b\b\b\b\b\b\b\b\b\b\b\b\b\b\b\b\b\b\b\b\b\b\b\b\b\b\b\b\b\b\b\b\b\b\b\b\b\b\b\b\b\b\b\b\b\b\b\b\b\b\b\b\b\b\b\b\b\b\b\b\b\b\b\b\b\b\b\b\b\b\b\b\b\b\b\b\b\b\b\b\b\b\b\b\b\b\b\b\b\b\b\b\b\b\b\b\b\b\b\b\r",
      " 87/100 [=========================>....] - ETA: 0s - loss: 7.7186 - gp_layer_2_prior_kl: 0.2666 - gp_layer_3_prior_kl: 0.0307 "
     ]
    },
    {
     "name": "stdout",
     "output_type": "stream",
     "text": [
      "\b\b\b\b\b\b\b\b\b\b\b\b\b\b\b\b\b\b\b\b\b\b\b\b\b\b\b\b\b\b\b\b\b\b\b\b\b\b\b\b\b\b\b\b\b\b\b\b\b\b\b\b\b\b\b\b\b\b\b\b\b\b\b\b\b\b\b\b\b\b\b\b\b\b\b\b\b\b\b\b\b\b\b\b\b\b\b\b\b\b\b\b\b\b\b\b\b\b\b\b\b\b\b\b\b\b\b\b\b\b\b\b\b\b\b\b\b\b\b\b\b\b\b\b\b\r",
      "100/100 [==============================] - 4s 2ms/step - loss: 6.9568 - gp_layer_2_prior_kl: 0.2665 - gp_layer_3_prior_kl: 0.0320 - lr: 0.1000\n"
     ]
    },
    {
     "name": "stdout",
     "output_type": "stream",
     "text": [
      "Epoch 2/2\n"
     ]
    },
    {
     "name": "stdout",
     "output_type": "stream",
     "text": [
      "\r",
      "  1/100 [..............................] - ETA: 0s - loss: 3.2345 - gp_layer_2_prior_kl: 0.2661 - gp_layer_3_prior_kl: 0.0415"
     ]
    },
    {
     "name": "stdout",
     "output_type": "stream",
     "text": [
      "\b\b\b\b\b\b\b\b\b\b\b\b\b\b\b\b\b\b\b\b\b\b\b\b\b\b\b\b\b\b\b\b\b\b\b\b\b\b\b\b\b\b\b\b\b\b\b\b\b\b\b\b\b\b\b\b\b\b\b\b\b\b\b\b\b\b\b\b\b\b\b\b\b\b\b\b\b\b\b\b\b\b\b\b\b\b\b\b\b\b\b\b\b\b\b\b\b\b\b\b\b\b\b\b\b\b\b\b\b\b\b\b\b\b\b\b\b\b\b\b\b\b\b\b\b\r",
      " 25/100 [======>.......................] - ETA: 0s - loss: 1.1927 - gp_layer_2_prior_kl: 0.2660 - gp_layer_3_prior_kl: 0.0428"
     ]
    },
    {
     "name": "stdout",
     "output_type": "stream",
     "text": [
      "\b\b\b\b\b\b\b\b\b\b\b\b\b\b\b\b\b\b\b\b\b\b\b\b\b\b\b\b\b\b\b\b\b\b\b\b\b\b\b\b\b\b\b\b\b\b\b\b\b\b\b\b\b\b\b\b\b\b\b\b\b\b\b\b\b\b\b\b\b\b\b\b\b\b\b\b\b\b\b\b\b\b\b\b\b\b\b\b\b\b\b\b\b\b\b\b\b\b\b\b\b\b\b\b\b\b\b\b\b\b\b\b\b\b\b\b\b\b\b\b\b\b\b\b\b\r",
      " 50/100 [==============>...............] - ETA: 0s - loss: 1.2879 - gp_layer_2_prior_kl: 0.2659 - gp_layer_3_prior_kl: 0.0438"
     ]
    },
    {
     "name": "stdout",
     "output_type": "stream",
     "text": [
      "\b\b\b\b\b\b\b\b\b\b\b\b\b\b\b\b\b\b\b\b\b\b\b\b\b\b\b\b\b\b\b\b\b\b\b\b\b\b\b\b\b\b\b\b\b\b\b\b\b\b\b\b\b\b\b\b\b\b\b\b\b\b\b\b\b\b\b\b\b\b\b\b\b\b\b\b\b\b\b\b\b\b\b\b\b\b\b\b\b\b\b\b\b\b\b\b\b\b\b\b\b\b\b\b\b\b\b\b\b\b\b\b\b\b\b\b\b\b\b\b\b\b\b\b\b\r",
      " 77/100 [======================>.......] - ETA: 0s - loss: 1.2394 - gp_layer_2_prior_kl: 0.2658 - gp_layer_3_prior_kl: 0.0451"
     ]
    },
    {
     "name": "stdout",
     "output_type": "stream",
     "text": [
      "\b\b\b\b\b\b\b\b\b\b\b\b\b\b\b\b\b\b\b\b\b\b\b\b\b\b\b\b\b\b\b\b\b\b\b\b\b\b\b\b\b\b\b\b\b\b\b\b\b\b\b\b\b\b\b\b\b\b\b\b\b\b\b\b\b\b\b\b\b\b\b\b\b\b\b\b\b\b\b\b\b\b\b\b\b\b\b\b\b\b\b\b\b\b\b\b\b\b\b\b\b\b\b\b\b\b\b\b\b\b\b\b\b\b\b\b\b\b\b\b\b\b\b\b\b\r",
      "100/100 [==============================] - 0s 2ms/step - loss: 1.1725 - gp_layer_2_prior_kl: 0.2657 - gp_layer_3_prior_kl: 0.0461 - lr: 0.1000\n"
     ]
    }
   ],
   "source": [
    "dgp_natgrad = create_model(gpflux.optimization.NatGradModel)\n",
    "\n",
    "callbacks = [\n",
    "    tf.keras.callbacks.ReduceLROnPlateau(\n",
    "        monitor=\"loss\",\n",
    "        patience=5,\n",
    "        factor=0.95,\n",
    "        verbose=1,\n",
    "        min_lr=1e-6,\n",
    "    )\n",
    "]\n",
    "\n",
    "dgp_natgrad_train = dgp_natgrad.as_training_model()\n",
    "dgp_natgrad_train.natgrad_layers = (\n",
    "    True  # we want all (here two) GPLayer instances trained by NaturalGradient\n",
    ")\n",
    "# alternatively, we could set `natgrad_layers` explicitly to the GPLayer instances inside the model\n",
    "dgp_natgrad_train.compile(\n",
    "    [\n",
    "        gpflow.optimizers.NaturalGradient(gamma=0.05),\n",
    "        gpflow.optimizers.NaturalGradient(gamma=0.05),\n",
    "        tf.optimizers.Adam(learning_rate=0.1),\n",
    "    ]\n",
    ")\n",
    "\n",
    "history_natgrad = dgp_natgrad_train.fit(\n",
    "    {\"inputs\": X, \"targets\": Y}, batch_size=batch_size, epochs=num_epochs, callbacks=callbacks\n",
    ")"
   ]
  },
  {
   "cell_type": "code",
   "execution_count": 10,
   "id": "f680230c",
   "metadata": {
    "execution": {
     "iopub.execute_input": "2023-05-31T07:13:04.613582Z",
     "iopub.status.busy": "2023-05-31T07:13:04.613186Z",
     "iopub.status.idle": "2023-05-31T07:13:05.356038Z",
     "shell.execute_reply": "2023-05-31T07:13:05.355162Z"
    }
   },
   "outputs": [],
   "source": [
    "dgp_test = dgp.as_prediction_model()\n",
    "res = dgp_test(X)"
   ]
  },
  {
   "cell_type": "code",
   "execution_count": 11,
   "id": "f74cd3fd",
   "metadata": {
    "execution": {
     "iopub.execute_input": "2023-05-31T07:13:05.359773Z",
     "iopub.status.busy": "2023-05-31T07:13:05.359513Z",
     "iopub.status.idle": "2023-05-31T07:13:05.474064Z",
     "shell.execute_reply": "2023-05-31T07:13:05.472745Z"
    }
   },
   "outputs": [
    {
     "data": {
      "image/png": "[encoded data removed]",
      "text/plain": [
       "<Figure size 640x480 with 1 Axes>"
      ]
     },
     "metadata": {},
     "output_type": "display_data"
    }
   ],
   "source": [
    "plt.plot(X, Y, \"x\")\n",
    "plt.errorbar(X.squeeze(), np.squeeze(res.y_mean), np.sqrt(np.squeeze(res.y_var)), ls=\"\")\n",
    "plt.show()"
   ]
  },
  {
   "cell_type": "code",
   "execution_count": 12,
   "id": "e2841960",
   "metadata": {
    "execution": {
     "iopub.execute_input": "2023-05-31T07:13:05.477052Z",
     "iopub.status.busy": "2023-05-31T07:13:05.476820Z",
     "iopub.status.idle": "2023-05-31T07:13:05.576045Z",
     "shell.execute_reply": "2023-05-31T07:13:05.575334Z"
    }
   },
   "outputs": [
    {
     "data": {
      "image/png": "[encoded data removed]",
      "text/plain": [
       "<Figure size 640x480 with 1 Axes>"
      ]
     },
     "metadata": {},
     "output_type": "display_data"
    }
   ],
   "source": [
    "plt.plot(history.history[\"loss\"], label=\"Adam\")\n",
    "plt.plot(history_natgrad.history[\"loss\"], label=\"NatGrad\")\n",
    "plt.show()"
   ]
  }
 ],
 "metadata": {
  "jupytext": {
   "formats": "ipynb,py:percent"
  },
  "kernelspec": {
   "display_name": "Python 3",
   "language": "python",
   "name": "python3"
  },
  "language_info": {
   "codemirror_mode": {
    "name": "ipython",
    "version": 3
   },
   "file_extension": ".py",
   "mimetype": "text/x-python",
   "name": "python",
   "nbconvert_exporter": "python",
   "pygments_lexer": "ipython3",
   "version": "3.8.16"
  }
 },
 "nbformat": 4,
 "nbformat_minor": 5
}
